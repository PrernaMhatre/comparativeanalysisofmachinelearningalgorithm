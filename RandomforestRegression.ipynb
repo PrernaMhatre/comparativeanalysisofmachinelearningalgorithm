{
 "cells": [
  {
   "cell_type": "code",
   "execution_count": 1,
   "id": "efficient-daniel",
   "metadata": {},
   "outputs": [],
   "source": [
    "import numpy as np\n",
    "import matplotlib.pyplot as plt\n",
    "import pandas as pd       \n",
    "from sklearn.ensemble import RandomForestRegressor\n",
    "from sklearn.metrics import roc_auc_score\n",
    "from sklearn.ensemble import RandomForestRegressor\n",
    "fbp = pd.read_csv('credit_train.csv')"
   ]
  },
  {
   "cell_type": "code",
   "execution_count": 2,
   "id": "injured-sydney",
   "metadata": {},
   "outputs": [
    {
     "data": {
      "text/plain": [
       "Loan ID                           514\n",
       "Customer ID                       514\n",
       "Loan Status                       514\n",
       "Current Loan Amount               514\n",
       "Term                              514\n",
       "Credit Score                    19668\n",
       "Annual Income                   19668\n",
       "Years in current job             4736\n",
       "Home Ownership                    514\n",
       "Purpose                           514\n",
       "Monthly Debt                      514\n",
       "Years of Credit History           514\n",
       "Months since last delinquent    53655\n",
       "Number of Open Accounts           514\n",
       "Number of Credit Problems         514\n",
       "Current Credit Balance            514\n",
       "Maximum Open Credit               516\n",
       "Bankruptcies                      718\n",
       "Tax Liens                         524\n",
       "dtype: int64"
      ]
     },
     "execution_count": 2,
     "metadata": {},
     "output_type": "execute_result"
    }
   ],
   "source": [
    "df = pd.DataFrame(fbp)\n",
    "df.isna().sum()"
   ]
  },
  {
   "cell_type": "code",
   "execution_count": 3,
   "id": "impaired-kitchen",
   "metadata": {},
   "outputs": [],
   "source": [
    "df=df.dropna()"
   ]
  },
  {
   "cell_type": "code",
   "execution_count": 4,
   "id": "charming-diagnosis",
   "metadata": {},
   "outputs": [],
   "source": [
    "df = df.reset_index(drop=True)"
   ]
  },
  {
   "cell_type": "code",
   "execution_count": 5,
   "id": "devoted-server",
   "metadata": {},
   "outputs": [
    {
     "name": "stdout",
     "output_type": "stream",
     "text": [
      "<class 'pandas.core.frame.DataFrame'>\n",
      "RangeIndex: 36423 entries, 0 to 36422\n",
      "Data columns (total 19 columns):\n",
      " #   Column                        Non-Null Count  Dtype  \n",
      "---  ------                        --------------  -----  \n",
      " 0   Loan ID                       36423 non-null  object \n",
      " 1   Customer ID                   36423 non-null  object \n",
      " 2   Loan Status                   36423 non-null  object \n",
      " 3   Current Loan Amount           36423 non-null  float64\n",
      " 4   Term                          36423 non-null  object \n",
      " 5   Credit Score                  36423 non-null  float64\n",
      " 6   Annual Income                 36423 non-null  float64\n",
      " 7   Years in current job          36423 non-null  object \n",
      " 8   Home Ownership                36423 non-null  object \n",
      " 9   Purpose                       36423 non-null  object \n",
      " 10  Monthly Debt                  36423 non-null  float64\n",
      " 11  Years of Credit History       36423 non-null  float64\n",
      " 12  Months since last delinquent  36423 non-null  float64\n",
      " 13  Number of Open Accounts       36423 non-null  float64\n",
      " 14  Number of Credit Problems     36423 non-null  float64\n",
      " 15  Current Credit Balance        36423 non-null  float64\n",
      " 16  Maximum Open Credit           36423 non-null  float64\n",
      " 17  Bankruptcies                  36423 non-null  float64\n",
      " 18  Tax Liens                     36423 non-null  float64\n",
      "dtypes: float64(12), object(7)\n",
      "memory usage: 5.3+ MB\n",
      "None\n"
     ]
    }
   ],
   "source": [
    "print(df.info())"
   ]
  },
  {
   "cell_type": "code",
   "execution_count": 6,
   "id": "known-compromise",
   "metadata": {},
   "outputs": [],
   "source": [
    "target_var = df['Credit Score']\n",
    "df1 = df.copy()\n",
    "df1 = df1.drop('Credit Score', axis =1)"
   ]
  },
  {
   "cell_type": "code",
   "execution_count": 7,
   "id": "perceived-eligibility",
   "metadata": {},
   "outputs": [],
   "source": [
    "X = df1\n",
    "X\n",
    "y=target_var"
   ]
  },
  {
   "cell_type": "code",
   "execution_count": 10,
   "id": "amber-belize",
   "metadata": {},
   "outputs": [],
   "source": [
    "from sklearn.model_selection import train_test_split\n",
    "X_train, X_test, y_train, y_test = train_test_split(X , y, test_size = 0.2)"
   ]
  },
  {
   "cell_type": "code",
   "execution_count": 12,
   "id": "acoustic-advocate",
   "metadata": {},
   "outputs": [
    {
     "data": {
      "text/html": [
       "<div>\n",
       "<style scoped>\n",
       "    .dataframe tbody tr th:only-of-type {\n",
       "        vertical-align: middle;\n",
       "    }\n",
       "\n",
       "    .dataframe tbody tr th {\n",
       "        vertical-align: top;\n",
       "    }\n",
       "\n",
       "    .dataframe thead th {\n",
       "        text-align: right;\n",
       "    }\n",
       "</style>\n",
       "<table border=\"1\" class=\"dataframe\">\n",
       "  <thead>\n",
       "    <tr style=\"text-align: right;\">\n",
       "      <th></th>\n",
       "      <th>Current Loan Amount</th>\n",
       "      <th>Annual Income</th>\n",
       "      <th>Monthly Debt</th>\n",
       "      <th>Years of Credit History</th>\n",
       "      <th>Months since last delinquent</th>\n",
       "      <th>Number of Open Accounts</th>\n",
       "      <th>Number of Credit Problems</th>\n",
       "      <th>Current Credit Balance</th>\n",
       "      <th>Maximum Open Credit</th>\n",
       "      <th>Bankruptcies</th>\n",
       "      <th>Tax Liens</th>\n",
       "    </tr>\n",
       "  </thead>\n",
       "  <tbody>\n",
       "    <tr>\n",
       "      <th>0</th>\n",
       "      <td>99999999.0</td>\n",
       "      <td>2231892.0</td>\n",
       "      <td>29200.53</td>\n",
       "      <td>14.9</td>\n",
       "      <td>29.0</td>\n",
       "      <td>18.0</td>\n",
       "      <td>1.0</td>\n",
       "      <td>297996.0</td>\n",
       "      <td>750090.0</td>\n",
       "      <td>0.0</td>\n",
       "      <td>0.0</td>\n",
       "    </tr>\n",
       "    <tr>\n",
       "      <th>1</th>\n",
       "      <td>217646.0</td>\n",
       "      <td>1184194.0</td>\n",
       "      <td>10855.08</td>\n",
       "      <td>19.6</td>\n",
       "      <td>10.0</td>\n",
       "      <td>13.0</td>\n",
       "      <td>1.0</td>\n",
       "      <td>122170.0</td>\n",
       "      <td>272052.0</td>\n",
       "      <td>1.0</td>\n",
       "      <td>0.0</td>\n",
       "    </tr>\n",
       "    <tr>\n",
       "      <th>2</th>\n",
       "      <td>548746.0</td>\n",
       "      <td>2559110.0</td>\n",
       "      <td>18660.28</td>\n",
       "      <td>22.6</td>\n",
       "      <td>33.0</td>\n",
       "      <td>4.0</td>\n",
       "      <td>0.0</td>\n",
       "      <td>437171.0</td>\n",
       "      <td>555038.0</td>\n",
       "      <td>0.0</td>\n",
       "      <td>0.0</td>\n",
       "    </tr>\n",
       "    <tr>\n",
       "      <th>3</th>\n",
       "      <td>99999999.0</td>\n",
       "      <td>714628.0</td>\n",
       "      <td>11851.06</td>\n",
       "      <td>16.0</td>\n",
       "      <td>76.0</td>\n",
       "      <td>16.0</td>\n",
       "      <td>0.0</td>\n",
       "      <td>203965.0</td>\n",
       "      <td>289784.0</td>\n",
       "      <td>0.0</td>\n",
       "      <td>0.0</td>\n",
       "    </tr>\n",
       "    <tr>\n",
       "      <th>4</th>\n",
       "      <td>99999999.0</td>\n",
       "      <td>776188.0</td>\n",
       "      <td>11578.22</td>\n",
       "      <td>8.5</td>\n",
       "      <td>25.0</td>\n",
       "      <td>6.0</td>\n",
       "      <td>0.0</td>\n",
       "      <td>134083.0</td>\n",
       "      <td>220220.0</td>\n",
       "      <td>0.0</td>\n",
       "      <td>0.0</td>\n",
       "    </tr>\n",
       "  </tbody>\n",
       "</table>\n",
       "</div>"
      ],
      "text/plain": [
       "   Current Loan Amount  Annual Income  Monthly Debt  Years of Credit History  \\\n",
       "0           99999999.0      2231892.0      29200.53                     14.9   \n",
       "1             217646.0      1184194.0      10855.08                     19.6   \n",
       "2             548746.0      2559110.0      18660.28                     22.6   \n",
       "3           99999999.0       714628.0      11851.06                     16.0   \n",
       "4           99999999.0       776188.0      11578.22                      8.5   \n",
       "\n",
       "   Months since last delinquent  Number of Open Accounts  \\\n",
       "0                          29.0                     18.0   \n",
       "1                          10.0                     13.0   \n",
       "2                          33.0                      4.0   \n",
       "3                          76.0                     16.0   \n",
       "4                          25.0                      6.0   \n",
       "\n",
       "   Number of Credit Problems  Current Credit Balance  Maximum Open Credit  \\\n",
       "0                        1.0                297996.0             750090.0   \n",
       "1                        1.0                122170.0             272052.0   \n",
       "2                        0.0                437171.0             555038.0   \n",
       "3                        0.0                203965.0             289784.0   \n",
       "4                        0.0                134083.0             220220.0   \n",
       "\n",
       "   Bankruptcies  Tax Liens  \n",
       "0           0.0        0.0  \n",
       "1           1.0        0.0  \n",
       "2           0.0        0.0  \n",
       "3           0.0        0.0  \n",
       "4           0.0        0.0  "
      ]
     },
     "execution_count": 12,
     "metadata": {},
     "output_type": "execute_result"
    }
   ],
   "source": [
    "numeric_var=list(X.dtypes[X.dtypes!= \"object\"].index)\n",
    "X[numeric_var].head()"
   ]
  },
  {
   "cell_type": "code",
   "execution_count": null,
   "id": "therapeutic-console",
   "metadata": {},
   "outputs": [],
   "source": []
  },
  {
   "cell_type": "code",
   "execution_count": 13,
   "id": "maritime-quick",
   "metadata": {},
   "outputs": [],
   "source": [
    "from sklearn.model_selection import train_test_split\n",
    "X_train, X_test, y_train, y_test = train_test_split(X[numeric_var] , y, test_size = 0.2)"
   ]
  },
  {
   "cell_type": "code",
   "execution_count": 14,
   "id": "loaded-munich",
   "metadata": {},
   "outputs": [],
   "source": [
    "from sklearn.preprocessing import StandardScaler\n",
    "\n",
    "sc = StandardScaler()\n",
    "X_train = sc.fit_transform(X_train)\n",
    "X_test = sc.transform(X_test)"
   ]
  },
  {
   "cell_type": "code",
   "execution_count": 21,
   "id": "reasonable-shoot",
   "metadata": {},
   "outputs": [],
   "source": [
    "from sklearn.ensemble import RandomForestRegressor\n",
    "\n",
    "regressor = RandomForestRegressor(n_estimators=100, random_state=0)\n",
    "regressor.fit(X_train, y_train)\n",
    "y_pred = regressor.predict(X_test)"
   ]
  },
  {
   "cell_type": "code",
   "execution_count": 20,
   "id": "private-virginia",
   "metadata": {},
   "outputs": [
    {
     "name": "stdout",
     "output_type": "stream",
     "text": [
      "Mean Absolute Error: 666.1014605353465\n",
      "Mean Squared Error: 2118143.813870638\n",
      "Root Mean Squared Error: 1455.38442133707\n"
     ]
    }
   ],
   "source": [
    "from sklearn import metrics\n",
    "\n",
    "print('Mean Absolute Error:', metrics.mean_absolute_error(y_test, y_pred))\n",
    "print('Mean Squared Error:', metrics.mean_squared_error(y_test, y_pred))\n",
    "print('Root Mean Squared Error:', np.sqrt(metrics.mean_squared_error(y_test, y_pred)))"
   ]
  },
  {
   "cell_type": "code",
   "execution_count": 22,
   "id": "bacterial-correspondence",
   "metadata": {},
   "outputs": [
    {
     "data": {
      "text/plain": [
       "RandomForestRegressor()"
      ]
     },
     "execution_count": 22,
     "metadata": {},
     "output_type": "execute_result"
    }
   ],
   "source": [
    "model = RandomForestRegressor()\n",
    "model.fit(X_train,y_train)"
   ]
  },
  {
   "cell_type": "code",
   "execution_count": 25,
   "id": "random-wyoming",
   "metadata": {},
   "outputs": [
    {
     "name": "stdout",
     "output_type": "stream",
     "text": [
      "TRAINING SET\n",
      "============\n",
      "MAE:                 244.82266387535176\n",
      "RMSE:                540.8333519754034\n",
      "r2:                  0.858812850043742\n",
      "feature_importances: [0.14870675 0.14532449 0.14227381 0.11537752 0.09502173 0.06738513\n",
      " 0.00955782 0.12893858 0.13232407 0.00935204 0.00573806]\n",
      "n_features:          11\n",
      "n_outputs:           1\n",
      "last column (% Iron Concentrate) is the highest feature_importances\n"
     ]
    }
   ],
   "source": [
    "import math\n",
    "y_hat = model.predict(X_train)\n",
    "mae = metrics.mean_absolute_error(y_train,y_hat)\n",
    "mse = metrics.mean_squared_error(y_train,y_hat)\n",
    "print (\"TRAINING SET\")\n",
    "print (\"============\")\n",
    "print (\"MAE:                \", mae)\n",
    "print (\"RMSE:               \", math.sqrt(mse))\n",
    "print (\"r2:                 \", model.score(X_train,y_train))\n",
    "print (\"feature_importances:\",model.feature_importances_)\n",
    "print (\"n_features:         \",model.n_features_)\n",
    "print (\"n_outputs:          \",model.n_outputs_)\n"
   ]
  },
  {
   "cell_type": "code",
   "execution_count": 26,
   "id": "innovative-vietnamese",
   "metadata": {},
   "outputs": [
    {
     "name": "stdout",
     "output_type": "stream",
     "text": [
      "TEST SET\n",
      "========\n",
      "MAE:                 662.5879080301991\n",
      "RMSE:                1443.9775874349104\n",
      "r2:                  -0.0143089832504808\n"
     ]
    }
   ],
   "source": [
    "# Use test and show results of test set\n",
    "\n",
    "y_hat = model.predict(X_test)\n",
    "mae = metrics.mean_absolute_error(y_test,y_hat)\n",
    "mse = metrics.mean_squared_error(y_test,y_hat)\n",
    "print (\"TEST SET\")\n",
    "print (\"========\")\n",
    "print (\"MAE:                \", mae)\n",
    "print (\"RMSE:               \", math.sqrt(mse))\n",
    "print (\"r2:                 \", model.score(X_test,y_test))"
   ]
  },
  {
   "cell_type": "code",
   "execution_count": null,
   "id": "fleet-triumph",
   "metadata": {},
   "outputs": [],
   "source": []
  }
 ],
 "metadata": {
  "kernelspec": {
   "display_name": "Python 3",
   "language": "python",
   "name": "python3"
  },
  "language_info": {
   "codemirror_mode": {
    "name": "ipython",
    "version": 3
   },
   "file_extension": ".py",
   "mimetype": "text/x-python",
   "name": "python",
   "nbconvert_exporter": "python",
   "pygments_lexer": "ipython3",
   "version": "3.8.5"
  }
 },
 "nbformat": 4,
 "nbformat_minor": 5
}
