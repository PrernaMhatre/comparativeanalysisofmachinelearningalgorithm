{
 "cells": [
  {
   "cell_type": "code",
   "execution_count": 1,
   "id": "addressed-stockholm",
   "metadata": {},
   "outputs": [],
   "source": [
    "#Multi Linear Regression\n",
    "import numpy as np\n",
    "import matplotlib.pyplot as plt\n",
    "import pandas as pd       \n",
    "from sklearn.ensemble import RandomForestRegressor\n",
    "from sklearn.metrics import roc_auc_score\n",
    "from sklearn.ensemble import RandomForestRegressor\n",
    "fbp = pd.read_csv('credit_train.csv')"
   ]
  },
  {
   "cell_type": "code",
   "execution_count": 2,
   "id": "impressed-whole",
   "metadata": {},
   "outputs": [
    {
     "data": {
      "text/plain": [
       "Loan ID                           514\n",
       "Customer ID                       514\n",
       "Loan Status                       514\n",
       "Current Loan Amount               514\n",
       "Term                              514\n",
       "Credit Score                    19668\n",
       "Annual Income                   19668\n",
       "Years in current job             4736\n",
       "Home Ownership                    514\n",
       "Purpose                           514\n",
       "Monthly Debt                      514\n",
       "Years of Credit History           514\n",
       "Months since last delinquent    53655\n",
       "Number of Open Accounts           514\n",
       "Number of Credit Problems         514\n",
       "Current Credit Balance            514\n",
       "Maximum Open Credit               516\n",
       "Bankruptcies                      718\n",
       "Tax Liens                         524\n",
       "dtype: int64"
      ]
     },
     "execution_count": 2,
     "metadata": {},
     "output_type": "execute_result"
    }
   ],
   "source": [
    "df = pd.DataFrame(fbp)\n",
    "df.isna().sum()"
   ]
  },
  {
   "cell_type": "code",
   "execution_count": 3,
   "id": "immune-protein",
   "metadata": {},
   "outputs": [],
   "source": [
    "df=df.dropna()"
   ]
  },
  {
   "cell_type": "code",
   "execution_count": 4,
   "id": "sunset-framework",
   "metadata": {},
   "outputs": [],
   "source": [
    "df = df.reset_index(drop=True)"
   ]
  },
  {
   "cell_type": "code",
   "execution_count": 5,
   "id": "incorrect-characteristic",
   "metadata": {},
   "outputs": [
    {
     "name": "stdout",
     "output_type": "stream",
     "text": [
      "<class 'pandas.core.frame.DataFrame'>\n",
      "RangeIndex: 36423 entries, 0 to 36422\n",
      "Data columns (total 19 columns):\n",
      " #   Column                        Non-Null Count  Dtype  \n",
      "---  ------                        --------------  -----  \n",
      " 0   Loan ID                       36423 non-null  object \n",
      " 1   Customer ID                   36423 non-null  object \n",
      " 2   Loan Status                   36423 non-null  object \n",
      " 3   Current Loan Amount           36423 non-null  float64\n",
      " 4   Term                          36423 non-null  object \n",
      " 5   Credit Score                  36423 non-null  float64\n",
      " 6   Annual Income                 36423 non-null  float64\n",
      " 7   Years in current job          36423 non-null  object \n",
      " 8   Home Ownership                36423 non-null  object \n",
      " 9   Purpose                       36423 non-null  object \n",
      " 10  Monthly Debt                  36423 non-null  float64\n",
      " 11  Years of Credit History       36423 non-null  float64\n",
      " 12  Months since last delinquent  36423 non-null  float64\n",
      " 13  Number of Open Accounts       36423 non-null  float64\n",
      " 14  Number of Credit Problems     36423 non-null  float64\n",
      " 15  Current Credit Balance        36423 non-null  float64\n",
      " 16  Maximum Open Credit           36423 non-null  float64\n",
      " 17  Bankruptcies                  36423 non-null  float64\n",
      " 18  Tax Liens                     36423 non-null  float64\n",
      "dtypes: float64(12), object(7)\n",
      "memory usage: 5.3+ MB\n",
      "None\n"
     ]
    }
   ],
   "source": [
    "print(df.info())"
   ]
  },
  {
   "cell_type": "code",
   "execution_count": 6,
   "id": "oriented-wheel",
   "metadata": {},
   "outputs": [],
   "source": [
    "target_var = df['Credit Score']\n",
    "df1 = df.copy()\n",
    "df1 = df1.drop('Credit Score', axis =1)"
   ]
  },
  {
   "cell_type": "code",
   "execution_count": 7,
   "id": "pressing-swimming",
   "metadata": {},
   "outputs": [],
   "source": [
    "X = df1\n",
    "X\n",
    "y=target_var"
   ]
  },
  {
   "cell_type": "code",
   "execution_count": 8,
   "id": "executive-chorus",
   "metadata": {},
   "outputs": [
    {
     "data": {
      "text/html": [
       "<div>\n",
       "<style scoped>\n",
       "    .dataframe tbody tr th:only-of-type {\n",
       "        vertical-align: middle;\n",
       "    }\n",
       "\n",
       "    .dataframe tbody tr th {\n",
       "        vertical-align: top;\n",
       "    }\n",
       "\n",
       "    .dataframe thead th {\n",
       "        text-align: right;\n",
       "    }\n",
       "</style>\n",
       "<table border=\"1\" class=\"dataframe\">\n",
       "  <thead>\n",
       "    <tr style=\"text-align: right;\">\n",
       "      <th></th>\n",
       "      <th>Current Loan Amount</th>\n",
       "      <th>Annual Income</th>\n",
       "      <th>Monthly Debt</th>\n",
       "      <th>Years of Credit History</th>\n",
       "      <th>Months since last delinquent</th>\n",
       "      <th>Number of Open Accounts</th>\n",
       "      <th>Number of Credit Problems</th>\n",
       "      <th>Current Credit Balance</th>\n",
       "      <th>Maximum Open Credit</th>\n",
       "      <th>Bankruptcies</th>\n",
       "      <th>Tax Liens</th>\n",
       "    </tr>\n",
       "  </thead>\n",
       "  <tbody>\n",
       "    <tr>\n",
       "      <th>0</th>\n",
       "      <td>99999999.0</td>\n",
       "      <td>2231892.0</td>\n",
       "      <td>29200.53</td>\n",
       "      <td>14.9</td>\n",
       "      <td>29.0</td>\n",
       "      <td>18.0</td>\n",
       "      <td>1.0</td>\n",
       "      <td>297996.0</td>\n",
       "      <td>750090.0</td>\n",
       "      <td>0.0</td>\n",
       "      <td>0.0</td>\n",
       "    </tr>\n",
       "    <tr>\n",
       "      <th>1</th>\n",
       "      <td>217646.0</td>\n",
       "      <td>1184194.0</td>\n",
       "      <td>10855.08</td>\n",
       "      <td>19.6</td>\n",
       "      <td>10.0</td>\n",
       "      <td>13.0</td>\n",
       "      <td>1.0</td>\n",
       "      <td>122170.0</td>\n",
       "      <td>272052.0</td>\n",
       "      <td>1.0</td>\n",
       "      <td>0.0</td>\n",
       "    </tr>\n",
       "    <tr>\n",
       "      <th>2</th>\n",
       "      <td>548746.0</td>\n",
       "      <td>2559110.0</td>\n",
       "      <td>18660.28</td>\n",
       "      <td>22.6</td>\n",
       "      <td>33.0</td>\n",
       "      <td>4.0</td>\n",
       "      <td>0.0</td>\n",
       "      <td>437171.0</td>\n",
       "      <td>555038.0</td>\n",
       "      <td>0.0</td>\n",
       "      <td>0.0</td>\n",
       "    </tr>\n",
       "    <tr>\n",
       "      <th>3</th>\n",
       "      <td>99999999.0</td>\n",
       "      <td>714628.0</td>\n",
       "      <td>11851.06</td>\n",
       "      <td>16.0</td>\n",
       "      <td>76.0</td>\n",
       "      <td>16.0</td>\n",
       "      <td>0.0</td>\n",
       "      <td>203965.0</td>\n",
       "      <td>289784.0</td>\n",
       "      <td>0.0</td>\n",
       "      <td>0.0</td>\n",
       "    </tr>\n",
       "    <tr>\n",
       "      <th>4</th>\n",
       "      <td>99999999.0</td>\n",
       "      <td>776188.0</td>\n",
       "      <td>11578.22</td>\n",
       "      <td>8.5</td>\n",
       "      <td>25.0</td>\n",
       "      <td>6.0</td>\n",
       "      <td>0.0</td>\n",
       "      <td>134083.0</td>\n",
       "      <td>220220.0</td>\n",
       "      <td>0.0</td>\n",
       "      <td>0.0</td>\n",
       "    </tr>\n",
       "  </tbody>\n",
       "</table>\n",
       "</div>"
      ],
      "text/plain": [
       "   Current Loan Amount  Annual Income  Monthly Debt  Years of Credit History  \\\n",
       "0           99999999.0      2231892.0      29200.53                     14.9   \n",
       "1             217646.0      1184194.0      10855.08                     19.6   \n",
       "2             548746.0      2559110.0      18660.28                     22.6   \n",
       "3           99999999.0       714628.0      11851.06                     16.0   \n",
       "4           99999999.0       776188.0      11578.22                      8.5   \n",
       "\n",
       "   Months since last delinquent  Number of Open Accounts  \\\n",
       "0                          29.0                     18.0   \n",
       "1                          10.0                     13.0   \n",
       "2                          33.0                      4.0   \n",
       "3                          76.0                     16.0   \n",
       "4                          25.0                      6.0   \n",
       "\n",
       "   Number of Credit Problems  Current Credit Balance  Maximum Open Credit  \\\n",
       "0                        1.0                297996.0             750090.0   \n",
       "1                        1.0                122170.0             272052.0   \n",
       "2                        0.0                437171.0             555038.0   \n",
       "3                        0.0                203965.0             289784.0   \n",
       "4                        0.0                134083.0             220220.0   \n",
       "\n",
       "   Bankruptcies  Tax Liens  \n",
       "0           0.0        0.0  \n",
       "1           1.0        0.0  \n",
       "2           0.0        0.0  \n",
       "3           0.0        0.0  \n",
       "4           0.0        0.0  "
      ]
     },
     "execution_count": 8,
     "metadata": {},
     "output_type": "execute_result"
    }
   ],
   "source": [
    "numeric_var=list(X.dtypes[X.dtypes!= \"object\"].index)\n",
    "X[numeric_var].head()"
   ]
  },
  {
   "cell_type": "code",
   "execution_count": 9,
   "id": "embedded-inquiry",
   "metadata": {},
   "outputs": [],
   "source": [
    "from sklearn.model_selection import train_test_split\n",
    "X_train, X_test, y_train, y_test = train_test_split(X[numeric_var] , y, test_size = 0.2)"
   ]
  },
  {
   "cell_type": "code",
   "execution_count": 10,
   "id": "regular-creator",
   "metadata": {},
   "outputs": [
    {
     "data": {
      "text/plain": [
       "LinearRegression()"
      ]
     },
     "execution_count": 10,
     "metadata": {},
     "output_type": "execute_result"
    }
   ],
   "source": [
    "#Fitting the MLR model to the training set:  \n",
    "from sklearn.linear_model import LinearRegression  \n",
    "regressor= LinearRegression()  \n",
    "regressor.fit(X_train, y_train)  "
   ]
  },
  {
   "cell_type": "code",
   "execution_count": 11,
   "id": "happy-advance",
   "metadata": {},
   "outputs": [],
   "source": [
    "#Predicting the Test set result;  \n",
    "y_pred= regressor.predict(X_test)  "
   ]
  },
  {
   "cell_type": "code",
   "execution_count": 12,
   "id": "passive-ancient",
   "metadata": {},
   "outputs": [
    {
     "name": "stdout",
     "output_type": "stream",
     "text": [
      "Train Score:  0.009663529751536393\n",
      "Test Score:  0.008430774031745636\n"
     ]
    }
   ],
   "source": [
    "print('Train Score: ', regressor.score(X_train, y_train))  \n",
    "print('Test Score: ', regressor.score(X_test, y_test))"
   ]
  },
  {
   "cell_type": "code",
   "execution_count": 13,
   "id": "grave-underwear",
   "metadata": {},
   "outputs": [],
   "source": [
    "def cost_function(X, y, w, b):\n",
    "    \"\"\"\n",
    "    Parameters:\n",
    "    X: features\n",
    "    y: target values\n",
    "    w: weights\n",
    "    b: bias\n",
    "    \n",
    "    Returns:\n",
    "    cost: cost with current weights and bias\n",
    "    \"\"\"\n",
    "    cost = np.sum((((X.dot(w) + b) - y) ** 2) / (2*len(y)))\n",
    "    return cost"
   ]
  },
  {
   "cell_type": "code",
   "execution_count": 14,
   "id": "legitimate-missouri",
   "metadata": {},
   "outputs": [],
   "source": [
    "def gradient_descent_function(X, y, w, b, alpha=0.01, epochs=1000):\n",
    "    \"\"\"\n",
    "    Parameters:\n",
    "    X: features\n",
    "    y: target values\n",
    "    w: initial weights\n",
    "    b: initial bias\n",
    "    alpha: learning rate\n",
    "    epochs: number of iterations\n",
    "    \n",
    "    Returns:\n",
    "    costs: cost per epoch\n",
    "    w: finalised weights\n",
    "    b: finalised bias\n",
    "    \"\"\"\n",
    "    m = len(y)\n",
    "    costs = [0] * epochs\n",
    "    \n",
    "    for epoch in range(epochs):\n",
    "        # Calculate the value -- Forward Propagation\n",
    "        z = X.dot(w) + b\n",
    "        \n",
    "        # Calculate the losses\n",
    "        loss = z - y\n",
    "        \n",
    "        # Calculate gradient descent\n",
    "        weight_gradient = X.T.dot(loss) / m\n",
    "        bias_gradient = np.sum(loss) / m\n",
    "        \n",
    "        # Update weights and bias\n",
    "        w = w - alpha*weight_gradient\n",
    "        b = b - alpha*bias_gradient\n",
    "        \n",
    "        # Store current lost\n",
    "        cost = cost_function(X, y, w, b)\n",
    "        costs[epoch] = cost\n",
    "        \n",
    "    return w, b, costs"
   ]
  },
  {
   "cell_type": "code",
   "execution_count": 15,
   "id": "organized-hollywood",
   "metadata": {},
   "outputs": [],
   "source": [
    "# Initial random weights\n",
    "w = np.random.randn(X_train.shape[1])\n",
    "# Initial bias\n",
    "b = 0\n",
    "weights, bias, costs = gradient_descent_function(X_train, y_train, w, b, epochs=2500);"
   ]
  },
  {
   "cell_type": "code",
   "execution_count": 19,
   "id": "increasing-conviction",
   "metadata": {},
   "outputs": [],
   "source": [
    "def r2score(y_pred, y):\n",
    "    \"\"\"\n",
    "    Parameters:\n",
    "    y_pred: predicted values\n",
    "    y: actual values\n",
    "    \n",
    "    Returns:\n",
    "    r2: r2 score\n",
    "    \"\"\"\n",
    "    rss = np.sum((y_pred - y) ** 2)\n",
    "    tss = np.sum((y-y.mean()) ** 2)\n",
    "    \n",
    "    r2 = 1 - (rss / tss)\n",
    "    return r2"
   ]
  },
  {
   "cell_type": "code",
   "execution_count": 18,
   "id": "scheduled-floor",
   "metadata": {},
   "outputs": [],
   "source": [
    "def predict(X,w,b):\n",
    "    return X.dot(w)+ b\n",
    "#y_pred = predict(X_test, weight, bias)"
   ]
  },
  {
   "cell_type": "code",
   "execution_count": 21,
   "id": "regulated-fisher",
   "metadata": {},
   "outputs": [],
   "source": [
    "y_pred = predict(X_test, weights, bias)"
   ]
  },
  {
   "cell_type": "code",
   "execution_count": 23,
   "id": "portuguese-sixth",
   "metadata": {},
   "outputs": [
    {
     "name": "stdout",
     "output_type": "stream",
     "text": [
      "1.0\n"
     ]
    }
   ],
   "source": [
    "r2 = r2score(y_pred, y_test)\n",
    "print(r2)"
   ]
  },
  {
   "cell_type": "code",
   "execution_count": null,
   "id": "clean-organization",
   "metadata": {},
   "outputs": [],
   "source": []
  }
 ],
 "metadata": {
  "kernelspec": {
   "display_name": "Python 3",
   "language": "python",
   "name": "python3"
  },
  "language_info": {
   "codemirror_mode": {
    "name": "ipython",
    "version": 3
   },
   "file_extension": ".py",
   "mimetype": "text/x-python",
   "name": "python",
   "nbconvert_exporter": "python",
   "pygments_lexer": "ipython3",
   "version": "3.8.5"
  }
 },
 "nbformat": 4,
 "nbformat_minor": 5
}
